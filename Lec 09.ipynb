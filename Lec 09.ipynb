{
 "cells": [
  {
   "cell_type": "code",
   "execution_count": 1,
   "id": "6602d45d",
   "metadata": {},
   "outputs": [
    {
     "name": "stdout",
     "output_type": "stream",
     "text": [
      "Collecting pymongo\n",
      "  Downloading pymongo-3.12.1-cp36-cp36m-manylinux_2_17_x86_64.manylinux2014_x86_64.whl (506 kB)\n",
      "\u001b[K     |████████████████████████████████| 506 kB 22.3 MB/s eta 0:00:01\n",
      "\u001b[?25hInstalling collected packages: pymongo\n",
      "Successfully installed pymongo-3.12.1\n",
      "\u001b[33mWARNING: You are using pip version 21.2.4; however, version 21.3.1 is available.\n",
      "You should consider upgrading via the '/home/ec2-user/anaconda3/envs/python3/bin/python -m pip install --upgrade pip' command.\u001b[0m\n"
     ]
    }
   ],
   "source": [
    "\n",
    "!pip install pymongo"
   ]
  },
  {
   "cell_type": "code",
   "execution_count": 2,
   "id": "4bf42a4b",
   "metadata": {},
   "outputs": [
    {
     "name": "stdout",
     "output_type": "stream",
     "text": [
      "Requirement already satisfied: pymongo[srv] in /home/ec2-user/anaconda3/envs/python3/lib/python3.6/site-packages (3.12.1)\n",
      "Collecting dnspython<3.0.0,>=1.16.0\n",
      "  Downloading dnspython-2.1.0-py3-none-any.whl (241 kB)\n",
      "\u001b[K     |████████████████████████████████| 241 kB 43.1 MB/s eta 0:00:01\n",
      "\u001b[?25hInstalling collected packages: dnspython\n",
      "Successfully installed dnspython-2.1.0\n",
      "\u001b[33mWARNING: You are using pip version 21.2.4; however, version 21.3.1 is available.\n",
      "You should consider upgrading via the '/home/ec2-user/anaconda3/envs/python3/bin/python -m pip install --upgrade pip' command.\u001b[0m\n"
     ]
    }
   ],
   "source": [
    "!pip install pymongo[srv]"
   ]
  },
  {
   "cell_type": "code",
   "execution_count": 3,
   "id": "0cf4fe01",
   "metadata": {},
   "outputs": [
    {
     "name": "stdout",
     "output_type": "stream",
     "text": [
      "Collecting tweepy\n",
      "  Downloading tweepy-4.2.0-py2.py3-none-any.whl (63 kB)\n",
      "\u001b[K     |████████████████████████████████| 63 kB 311 kB/s  eta 0:00:01\n",
      "\u001b[?25hRequirement already satisfied: requests<3,>=2.11.1 in /home/ec2-user/anaconda3/envs/python3/lib/python3.6/site-packages (from tweepy) (2.26.0)\n",
      "Collecting requests-oauthlib<2,>=1.0.0\n",
      "  Downloading requests_oauthlib-1.3.0-py2.py3-none-any.whl (23 kB)\n",
      "Requirement already satisfied: idna<4,>=2.5 in /home/ec2-user/anaconda3/envs/python3/lib/python3.6/site-packages (from requests<3,>=2.11.1->tweepy) (3.3)\n",
      "Requirement already satisfied: urllib3<1.27,>=1.21.1 in /home/ec2-user/anaconda3/envs/python3/lib/python3.6/site-packages (from requests<3,>=2.11.1->tweepy) (1.26.7)\n",
      "Requirement already satisfied: certifi>=2017.4.17 in /home/ec2-user/anaconda3/envs/python3/lib/python3.6/site-packages (from requests<3,>=2.11.1->tweepy) (2021.10.8)\n",
      "Requirement already satisfied: charset-normalizer~=2.0.0 in /home/ec2-user/anaconda3/envs/python3/lib/python3.6/site-packages (from requests<3,>=2.11.1->tweepy) (2.0.7)\n",
      "Collecting oauthlib>=3.0.0\n",
      "  Downloading oauthlib-3.1.1-py2.py3-none-any.whl (146 kB)\n",
      "\u001b[K     |████████████████████████████████| 146 kB 59.5 MB/s eta 0:00:01\n",
      "\u001b[?25hInstalling collected packages: oauthlib, requests-oauthlib, tweepy\n",
      "Successfully installed oauthlib-3.1.1 requests-oauthlib-1.3.0 tweepy-4.2.0\n",
      "\u001b[33mWARNING: You are using pip version 21.2.4; however, version 21.3.1 is available.\n",
      "You should consider upgrading via the '/home/ec2-user/anaconda3/envs/python3/bin/python -m pip install --upgrade pip' command.\u001b[0m\n"
     ]
    }
   ],
   "source": [
    "!pip install tweepy\n"
   ]
  },
  {
   "cell_type": "code",
   "execution_count": 4,
   "id": "7ccbf9fc",
   "metadata": {},
   "outputs": [
    {
     "name": "stdout",
     "output_type": "stream",
     "text": [
      "Requirement already satisfied: dnspython in /home/ec2-user/anaconda3/envs/python3/lib/python3.6/site-packages (2.1.0)\n",
      "\u001b[33mWARNING: You are using pip version 21.2.4; however, version 21.3.1 is available.\n",
      "You should consider upgrading via the '/home/ec2-user/anaconda3/envs/python3/bin/python -m pip install --upgrade pip' command.\u001b[0m\n"
     ]
    }
   ],
   "source": [
    "!pip install dnspython"
   ]
  },
  {
   "cell_type": "code",
   "execution_count": 5,
   "id": "b5792dc3",
   "metadata": {},
   "outputs": [
    {
     "name": "stdout",
     "output_type": "stream",
     "text": [
      "Collecting twitter\n",
      "  Downloading twitter-1.19.3-py2.py3-none-any.whl (50 kB)\n",
      "\u001b[K     |████████████████████████████████| 50 kB 8.0 MB/s  eta 0:00:01\n",
      "\u001b[?25hInstalling collected packages: twitter\n",
      "Successfully installed twitter-1.19.3\n",
      "\u001b[33mWARNING: You are using pip version 21.2.4; however, version 21.3.1 is available.\n",
      "You should consider upgrading via the '/home/ec2-user/anaconda3/envs/python3/bin/python -m pip install --upgrade pip' command.\u001b[0m\n"
     ]
    }
   ],
   "source": [
    "\n",
    "!pip install twitter"
   ]
  },
  {
   "cell_type": "code",
   "execution_count": 6,
   "id": "c3ac7695",
   "metadata": {},
   "outputs": [],
   "source": [
    "\n",
    "import pymongo\n",
    "from pymongo import MongoClient\n",
    "import json\n",
    "import tweepy\n",
    "import twitter\n",
    "from pprint import pprint\n",
    "import configparser\n",
    "import pandas as pd"
   ]
  },
  {
   "cell_type": "code",
   "execution_count": 7,
   "id": "3d9eec1e",
   "metadata": {},
   "outputs": [],
   "source": [
    "config = configparser.ConfigParser()\n",
    "config.read('config.ini')\n",
    "\n",
    "CONSUMER_KEY      = config['mytwitter']['api_key']\n",
    "CONSUMER_SECRET   = config['mytwitter']['api_secrete']\n",
    "OAUTH_TOKEN       = config['mytwitter']['access_token']\n",
    "OATH_TOKEN_SECRET = config['mytwitter']['access_secrete']\n",
    "\n",
    "mongod_connect = config['mymongo']['connection']"
   ]
  },
  {
   "cell_type": "code",
   "execution_count": 8,
   "id": "a38d973a",
   "metadata": {},
   "outputs": [
    {
     "data": {
      "text/plain": [
       "'id_1'"
      ]
     },
     "execution_count": 8,
     "metadata": {},
     "output_type": "execute_result"
    }
   ],
   "source": [
    "client = MongoClient(mongod_connect)\n",
    "db = client.demo # use or create a database named demo\n",
    "tweet_collection = db.tweet_collection #use or create a collection named tweet_collection\n",
    "tweet_collection.create_index([(\"id\", pymongo.ASCENDING)],unique = True) # make sure the collected tweets are unique"
   ]
  },
  {
   "cell_type": "markdown",
   "id": "6f1c4682",
   "metadata": {},
   "source": [
    "# Rest API to Collect Tweets"
   ]
  },
  {
   "cell_type": "code",
   "execution_count": 9,
   "id": "42e46958",
   "metadata": {},
   "outputs": [],
   "source": [
    "rest_auth = twitter.oauth.OAuth(OAUTH_TOKEN,OATH_TOKEN_SECRET,CONSUMER_KEY,CONSUMER_SECRET)\n",
    "rest_api = twitter.Twitter(auth=rest_auth)"
   ]
  },
  {
   "cell_type": "code",
   "execution_count": null,
   "id": "e7cc8e4d",
   "metadata": {},
   "outputs": [],
   "source": []
  },
  {
   "cell_type": "code",
   "execution_count": 12,
   "id": "99ce0fbb",
   "metadata": {},
   "outputs": [],
   "source": [
    "\n",
    "count = 100 #number of returned tweets, default and max is 100\n",
    "geocode = \"38.4392897,-78.9412224,15mi\"  # defin the location, in Harrisonburg, VA\n",
    "q = \"election\" #REMEMBER FOR QUIZ "
   ]
  },
  {
   "cell_type": "code",
   "execution_count": 13,
   "id": "fe7539a1",
   "metadata": {},
   "outputs": [
    {
     "name": "stdout",
     "output_type": "stream",
     "text": [
      "'Tue Nov 02 14:20:06 +0000 2021'\n",
      "'Tue Nov 02 14:14:30 +0000 2021'\n",
      "'Tue Nov 02 14:03:25 +0000 2021'\n",
      "'Tue Nov 02 14:02:21 +0000 2021'\n",
      "'Tue Nov 02 13:55:20 +0000 2021'\n",
      "'Tue Nov 02 13:54:29 +0000 2021'\n",
      "'Tue Nov 02 13:43:07 +0000 2021'\n",
      "'Tue Nov 02 13:25:05 +0000 2021'\n",
      "'Tue Nov 02 13:02:38 +0000 2021'\n",
      "'Tue Nov 02 13:01:46 +0000 2021'\n",
      "'Tue Nov 02 12:42:57 +0000 2021'\n",
      "'Tue Nov 02 12:30:11 +0000 2021'\n",
      "'Tue Nov 02 11:57:08 +0000 2021'\n",
      "'Tue Nov 02 11:51:45 +0000 2021'\n",
      "'Tue Nov 02 11:30:53 +0000 2021'\n",
      "'Tue Nov 02 11:27:22 +0000 2021'\n",
      "'Tue Nov 02 11:18:08 +0000 2021'\n",
      "'Tue Nov 02 10:52:17 +0000 2021'\n",
      "'Tue Nov 02 10:00:01 +0000 2021'\n",
      "'Tue Nov 02 09:47:59 +0000 2021'\n",
      "'Tue Nov 02 09:41:24 +0000 2021'\n",
      "'Tue Nov 02 09:11:06 +0000 2021'\n",
      "'Tue Nov 02 08:47:14 +0000 2021'\n",
      "'Mon Nov 01 23:24:16 +0000 2021'\n",
      "'Mon Nov 01 23:23:59 +0000 2021'\n",
      "'Mon Nov 01 23:23:49 +0000 2021'\n",
      "'Mon Nov 01 23:23:41 +0000 2021'\n",
      "'Mon Nov 01 23:23:32 +0000 2021'\n",
      "'Mon Nov 01 23:23:21 +0000 2021'\n",
      "'Mon Nov 01 23:23:09 +0000 2021'\n",
      "'Mon Nov 01 23:23:01 +0000 2021'\n",
      "'Mon Nov 01 23:22:42 +0000 2021'\n",
      "'Mon Nov 01 23:21:57 +0000 2021'\n",
      "'Mon Nov 01 23:21:40 +0000 2021'\n",
      "'Mon Nov 01 23:21:21 +0000 2021'\n",
      "'Mon Nov 01 23:21:11 +0000 2021'\n",
      "'Mon Nov 01 23:20:59 +0000 2021'\n",
      "'Mon Nov 01 23:20:27 +0000 2021'\n",
      "'Mon Nov 01 23:20:01 +0000 2021'\n",
      "'Mon Nov 01 23:19:39 +0000 2021'\n",
      "'Mon Nov 01 23:19:06 +0000 2021'\n",
      "'Mon Nov 01 20:53:30 +0000 2021'\n",
      "'Mon Nov 01 20:52:26 +0000 2021'\n",
      "'Mon Nov 01 18:17:19 +0000 2021'\n",
      "'Mon Nov 01 17:57:53 +0000 2021'\n",
      "'Mon Nov 01 16:28:58 +0000 2021'\n",
      "'Mon Nov 01 16:05:00 +0000 2021'\n",
      "'Mon Nov 01 15:38:09 +0000 2021'\n",
      "'Mon Nov 01 13:36:56 +0000 2021'\n",
      "'Sun Oct 31 18:53:15 +0000 2021'\n",
      "'Sun Oct 31 17:57:46 +0000 2021'\n",
      "'Sun Oct 31 17:08:45 +0000 2021'\n",
      "'Sun Oct 31 13:46:59 +0000 2021'\n",
      "'Sat Oct 30 17:27:45 +0000 2021'\n",
      "'Sat Oct 30 17:17:37 +0000 2021'\n",
      "'Sat Oct 30 16:16:30 +0000 2021'\n",
      "'Sat Oct 30 14:15:00 +0000 2021'\n",
      "'Sat Oct 30 04:37:37 +0000 2021'\n",
      "'Sat Oct 30 00:52:40 +0000 2021'\n",
      "'Fri Oct 29 21:50:02 +0000 2021'\n",
      "'Fri Oct 29 14:10:00 +0000 2021'\n",
      "'Fri Oct 29 01:29:52 +0000 2021'\n",
      "'Fri Oct 29 01:02:51 +0000 2021'\n",
      "'Fri Oct 29 00:09:54 +0000 2021'\n",
      "'Thu Oct 28 23:39:23 +0000 2021'\n",
      "'Thu Oct 28 17:37:26 +0000 2021'\n",
      "'Thu Oct 28 17:30:05 +0000 2021'\n",
      "'Thu Oct 28 13:19:37 +0000 2021'\n",
      "'Thu Oct 28 13:17:06 +0000 2021'\n",
      "'Thu Oct 28 13:14:11 +0000 2021'\n",
      "'Thu Oct 28 04:30:24 +0000 2021'\n",
      "'Thu Oct 28 04:30:24 +0000 2021'\n",
      "'Wed Oct 27 17:50:00 +0000 2021'\n",
      "'Wed Oct 27 13:59:41 +0000 2021'\n",
      "'Wed Oct 27 01:39:13 +0000 2021'\n",
      "'Wed Oct 27 00:23:07 +0000 2021'\n",
      "'Tue Oct 26 20:05:33 +0000 2021'\n",
      "'Tue Oct 26 17:25:32 +0000 2021'\n",
      "'Tue Oct 26 16:16:41 +0000 2021'\n",
      "'Tue Oct 26 14:38:02 +0000 2021'\n",
      "'Tue Oct 26 03:27:44 +0000 2021'\n",
      "'Mon Oct 25 21:12:45 +0000 2021'\n",
      "'Mon Oct 25 19:29:49 +0000 2021'\n",
      "'Mon Oct 25 14:30:28 +0000 2021'\n"
     ]
    }
   ],
   "source": [
    "search_results = rest_api.search.tweets( count=count,q=q, geocode=geocode) #you can use both q and geocode\n",
    "statuses = search_results[\"statuses\"]\n",
    "since_id_new = statuses[-1]['id']\n",
    "for statuse in statuses:\n",
    "    try:\n",
    "        tweet_collection.insert_one(statuse)\n",
    "        pprint(statuse['created_at'])# print the date of the collected tweets\n",
    "    except:\n",
    "        pass"
   ]
  },
  {
   "cell_type": "code",
   "execution_count": null,
   "id": "2cfbe323",
   "metadata": {},
   "outputs": [],
   "source": []
  }
 ],
 "metadata": {
  "kernelspec": {
   "display_name": "conda_python3",
   "language": "python",
   "name": "conda_python3"
  },
  "language_info": {
   "codemirror_mode": {
    "name": "ipython",
    "version": 3
   },
   "file_extension": ".py",
   "mimetype": "text/x-python",
   "name": "python",
   "nbconvert_exporter": "python",
   "pygments_lexer": "ipython3",
   "version": "3.6.13"
  }
 },
 "nbformat": 4,
 "nbformat_minor": 5
}
