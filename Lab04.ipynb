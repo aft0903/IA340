{
 "cells": [
  {
   "cell_type": "markdown",
   "id": "9c8f6504",
   "metadata": {},
   "source": [
    "# import python lib"
   ]
  },
  {
   "cell_type": "code",
   "execution_count": 19,
   "id": "a447d8fe",
   "metadata": {},
   "outputs": [],
   "source": [
    "import pandas\n",
    "import configparser\n",
    "import psycopg2"
   ]
  },
  {
   "cell_type": "markdown",
   "id": "0b798af3",
   "metadata": {},
   "source": [
    "# connect to database "
   ]
  },
  {
   "cell_type": "code",
   "execution_count": 20,
   "id": "40b8e43e",
   "metadata": {},
   "outputs": [],
   "source": [
    "config = configparser.ConfigParser()\n",
    "config.read('config.ini')\n",
    "\n",
    "host=config['myaws']['host']\n",
    "db=config['myaws']['db']\n",
    "user=config['myaws']['user']\n",
    "pwd = config['myaws']['pwd']\n",
    "\n",
    "conn = psycopg2.connect(  host=host,\n",
    "                       user=user,\n",
    "                       password = pwd,\n",
    "                       dbname=db)"
   ]
  },
  {
   "cell_type": "code",
   "execution_count": 21,
   "id": "66b66ecc",
   "metadata": {},
   "outputs": [],
   "source": [
    "cur=conn.cursor()"
   ]
  },
  {
   "cell_type": "markdown",
   "id": "93650a61",
   "metadata": {},
   "source": [
    "# 1. Use pandas to display all the records in the student table."
   ]
  },
  {
   "cell_type": "code",
   "execution_count": 22,
   "id": "d32c5228",
   "metadata": {},
   "outputs": [],
   "source": [
    "sql_statement = \"\"\"\n",
    "                select * from gp23.student\n",
    "               \"\"\""
   ]
  },
  {
   "cell_type": "code",
   "execution_count": 23,
   "id": "189d4e56",
   "metadata": {},
   "outputs": [],
   "source": [
    "cur.execute (sql_statement)"
   ]
  },
  {
   "cell_type": "code",
   "execution_count": 9,
   "id": "d40ba5b5",
   "metadata": {},
   "outputs": [
    {
     "data": {
      "text/html": [
       "<div>\n",
       "<style scoped>\n",
       "    .dataframe tbody tr th:only-of-type {\n",
       "        vertical-align: middle;\n",
       "    }\n",
       "\n",
       "    .dataframe tbody tr th {\n",
       "        vertical-align: top;\n",
       "    }\n",
       "\n",
       "    .dataframe thead th {\n",
       "        text-align: right;\n",
       "    }\n",
       "</style>\n",
       "<table border=\"1\" class=\"dataframe\">\n",
       "  <thead>\n",
       "    <tr style=\"text-align: right;\">\n",
       "      <th></th>\n",
       "      <th>s_email</th>\n",
       "      <th>s_name</th>\n",
       "      <th>major</th>\n",
       "    </tr>\n",
       "  </thead>\n",
       "  <tbody>\n",
       "    <tr>\n",
       "      <th>0</th>\n",
       "      <td>towneraf@dukes.jmu.edu</td>\n",
       "      <td>Aileen Towner</td>\n",
       "      <td>IA</td>\n",
       "    </tr>\n",
       "    <tr>\n",
       "      <th>1</th>\n",
       "      <td>hannahtaylor@dukes.jmu.edu</td>\n",
       "      <td>Hannah Taylor</td>\n",
       "      <td>IA</td>\n",
       "    </tr>\n",
       "    <tr>\n",
       "      <th>2</th>\n",
       "      <td>maddybuckley@dukes.jmu.edu</td>\n",
       "      <td>Maddy Buckely</td>\n",
       "      <td>Education</td>\n",
       "    </tr>\n",
       "    <tr>\n",
       "      <th>3</th>\n",
       "      <td>s1@dukes.jmu.edu</td>\n",
       "      <td>s1</td>\n",
       "      <td>IA\\n</td>\n",
       "    </tr>\n",
       "  </tbody>\n",
       "</table>\n",
       "</div>"
      ],
      "text/plain": [
       "                       s_email          s_name       major\n",
       "0       towneraf@dukes.jmu.edu  Aileen Towner          IA \n",
       "1  hannahtaylor@dukes.jmu.edu   Hannah Taylor           IA\n",
       "2   maddybuckley@dukes.jmu.edu  Maddy Buckely   Education \n",
       "3             s1@dukes.jmu.edu              s1        IA\\n"
      ]
     },
     "execution_count": 9,
     "metadata": {},
     "output_type": "execute_result"
    }
   ],
   "source": [
    "df = pandas.read_sql_query(sql_statement,conn)\n",
    "df[:]"
   ]
  },
  {
   "cell_type": "markdown",
   "id": "ee36e9f1",
   "metadata": {},
   "source": [
    "# 2. Display the teachers'names and the corresponding course names"
   ]
  },
  {
   "cell_type": "code",
   "execution_count": null,
   "id": "bfd9adb7",
   "metadata": {},
   "outputs": [],
   "source": []
  },
  {
   "cell_type": "code",
   "execution_count": 24,
   "id": "c44f6b4f",
   "metadata": {},
   "outputs": [],
   "source": [
    "sql_q2 = \"\"\"\n",
    "        select gp23.professor.p_name,\n",
    "        gp23.course.c_name\n",
    "        from gp23.professor\n",
    "        inner join gp23.course\n",
    "        on gp23.professor.p_email = gp23.course.p_email      \n",
    "         \"\"\"\n",
    "            "
   ]
  },
  {
   "cell_type": "code",
   "execution_count": null,
   "id": "8a911b32",
   "metadata": {},
   "outputs": [],
   "source": []
  },
  {
   "cell_type": "code",
   "execution_count": 11,
   "id": "fc9aae7b",
   "metadata": {},
   "outputs": [
    {
     "data": {
      "text/html": [
       "<div>\n",
       "<style scoped>\n",
       "    .dataframe tbody tr th:only-of-type {\n",
       "        vertical-align: middle;\n",
       "    }\n",
       "\n",
       "    .dataframe tbody tr th {\n",
       "        vertical-align: top;\n",
       "    }\n",
       "\n",
       "    .dataframe thead th {\n",
       "        text-align: right;\n",
       "    }\n",
       "</style>\n",
       "<table border=\"1\" class=\"dataframe\">\n",
       "  <thead>\n",
       "    <tr style=\"text-align: right;\">\n",
       "      <th></th>\n",
       "      <th>p_name</th>\n",
       "      <th>c_name</th>\n",
       "    </tr>\n",
       "  </thead>\n",
       "  <tbody>\n",
       "    <tr>\n",
       "      <th>0</th>\n",
       "      <td>SuBin Wei</td>\n",
       "      <td>Data Mining</td>\n",
       "    </tr>\n",
       "    <tr>\n",
       "      <th>1</th>\n",
       "      <td>Kathleen Moore</td>\n",
       "      <td>Technology</td>\n",
       "    </tr>\n",
       "    <tr>\n",
       "      <th>2</th>\n",
       "      <td>Timothy Walton</td>\n",
       "      <td>Ethics</td>\n",
       "    </tr>\n",
       "    <tr>\n",
       "      <th>3</th>\n",
       "      <td>p1</td>\n",
       "      <td>Writing2</td>\n",
       "    </tr>\n",
       "    <tr>\n",
       "      <th>4</th>\n",
       "      <td>new_p</td>\n",
       "      <td>Writing</td>\n",
       "    </tr>\n",
       "    <tr>\n",
       "      <th>5</th>\n",
       "      <td>newprofs</td>\n",
       "      <td>new_c_name</td>\n",
       "    </tr>\n",
       "  </tbody>\n",
       "</table>\n",
       "</div>"
      ],
      "text/plain": [
       "           p_name        c_name\n",
       "0       SuBin Wei  Data Mining \n",
       "1  Kathleen Moore   Technology \n",
       "2  Timothy Walton        Ethics\n",
       "3              p1      Writing2\n",
       "4           new_p       Writing\n",
       "5        newprofs    new_c_name"
      ]
     },
     "execution_count": 11,
     "metadata": {},
     "output_type": "execute_result"
    }
   ],
   "source": [
    "df = pandas.read_sql_query(sql_q2,conn)\n",
    "df[:]"
   ]
  },
  {
   "cell_type": "markdown",
   "id": "864dbf93",
   "metadata": {},
   "source": [
    "# 3. Create a bar chart showingthe number of enrolled students byeach course number."
   ]
  },
  {
   "cell_type": "code",
   "execution_count": 12,
   "id": "f1e8584e",
   "metadata": {},
   "outputs": [],
   "source": [
    "sql_q3 = \"\"\"\n",
    "        select num_course, \n",
    "        count (num_course) as enrolled\n",
    "        from gp23.enroll_list\n",
    "        group by num_course\n",
    "        order by enrolled desc\n",
    "        \n",
    "        \"\"\""
   ]
  },
  {
   "cell_type": "code",
   "execution_count": 13,
   "id": "28952674",
   "metadata": {},
   "outputs": [
    {
     "data": {
      "text/plain": [
       "<AxesSubplot:xlabel='num_course'>"
      ]
     },
     "execution_count": 13,
     "metadata": {},
     "output_type": "execute_result"
    },
    {
     "data": {
      "image/png": "[encoded data removed]",
      "text/plain": [
       "<Figure size 432x288 with 1 Axes>"
      ]
     },
     "metadata": {
      "needs_background": "light"
     },
     "output_type": "display_data"
    }
   ],
   "source": [
    "df = pandas.read_sql_query(sql_q3,conn)\n",
    "df.plot.bar(y='enrolled', x='num_course')"
   ]
  },
  {
   "cell_type": "markdown",
   "id": "7af7e6a7",
   "metadata": {},
   "source": [
    "# 4.  Create a bar chart showing the number of courses taught by each professor'sname"
   ]
  },
  {
   "cell_type": "code",
   "execution_count": 14,
   "id": "174019d6",
   "metadata": {},
   "outputs": [],
   "source": [
    "sql_q4 = \"\"\"\n",
    "        select professor.p_name, \n",
    "        count (gp23.course.c_name) as teaching_num\n",
    "        from gp23.professor\n",
    "        inner join gp23.course\n",
    "        on gp23.professor.p_email = gp23.course.p_email\n",
    "        group by professor.p_name \n",
    "        order by teaching_num desc\n",
    "        \"\"\""
   ]
  },
  {
   "cell_type": "code",
   "execution_count": 15,
   "id": "27774c4f",
   "metadata": {},
   "outputs": [
    {
     "data": {
      "text/plain": [
       "<AxesSubplot:xlabel='p_name'>"
      ]
     },
     "execution_count": 15,
     "metadata": {},
     "output_type": "execute_result"
    },
    {
     "data": {
      "image/png": "[encoded data removed]",
      "text/plain": [
       "<Figure size 432x288 with 1 Axes>"
      ]
     },
     "metadata": {
      "needs_background": "light"
     },
     "output_type": "display_data"
    }
   ],
   "source": [
    "df = pandas.read_sql_query(sql_q4,conn)\n",
    "df.plot.bar( y='teaching_num', x='p_name')"
   ]
  },
  {
   "cell_type": "markdown",
   "id": "622ea885",
   "metadata": {},
   "source": [
    "# 5. Add a new record of the new professor in the teacher table, and the corresponding new course record in the course table"
   ]
  },
  {
   "cell_type": "code",
   "execution_count": 50,
   "id": "8f59e5e6",
   "metadata": {},
   "outputs": [],
   "source": [
    "sql_q5_professor = \"\"\"\n",
    "                    insert into gp23.professor (p_email,p_name,office)\n",
    "                    values ('{}','{}','{}')  \n",
    "                     \"\"\".format ('newprofs@jmu.edu', 'newprofs','newoffice')\n",
    "                    \n",
    "                 "
   ]
  },
  {
   "cell_type": "code",
   "execution_count": 51,
   "id": "433fa9f8",
   "metadata": {},
   "outputs": [
    {
     "ename": "IntegrityError",
     "evalue": "duplicate key value violates unique constraint \"professor_pkey\"\nDETAIL:  Key (p_email)=(newprofs@jmu.edu) already exists.\n",
     "output_type": "error",
     "traceback": [
      "\u001b[0;31m---------------------------------------------------------------------------\u001b[0m",
      "\u001b[0;31mIntegrityError\u001b[0m                            Traceback (most recent call last)",
      "\u001b[0;32m<ipython-input-51-43f48278eb87>\u001b[0m in \u001b[0;36m<module>\u001b[0;34m\u001b[0m\n\u001b[0;32m----> 1\u001b[0;31m \u001b[0mcur\u001b[0m\u001b[0;34m.\u001b[0m\u001b[0mexecute\u001b[0m\u001b[0;34m(\u001b[0m\u001b[0msql_q5_professor\u001b[0m\u001b[0;34m)\u001b[0m\u001b[0;34m\u001b[0m\u001b[0;34m\u001b[0m\u001b[0m\n\u001b[0m",
      "\u001b[0;31mIntegrityError\u001b[0m: duplicate key value violates unique constraint \"professor_pkey\"\nDETAIL:  Key (p_email)=(newprofs@jmu.edu) already exists.\n"
     ]
    }
   ],
   "source": [
    "cur.execute(sql_q5_professor)"
   ]
  },
  {
   "cell_type": "code",
   "execution_count": 52,
   "id": "9fe25e98",
   "metadata": {},
   "outputs": [],
   "source": [
    "conn.rollback()"
   ]
  },
  {
   "cell_type": "code",
   "execution_count": null,
   "id": "9ce5428b",
   "metadata": {},
   "outputs": [],
   "source": [
    "df = pandas.read_sql_query('select * from gp23.professor',conn)\n",
    "df[:]"
   ]
  },
  {
   "cell_type": "code",
   "execution_count": null,
   "id": "2f1a9ff1",
   "metadata": {},
   "outputs": [],
   "source": [
    "sql_q5_course = \"\"\"\n",
    "                insert into gp23.course (num_course, c_name,r_num,p_email)\n",
    "                values ('{}','{}','{}','{}')\n",
    "\n",
    "                \"\"\". format ('ia_new','new_c_name','online','newprofs@jmu.edu')"
   ]
  },
  {
   "cell_type": "code",
   "execution_count": null,
   "id": "7e187886",
   "metadata": {},
   "outputs": [],
   "source": [
    "cur.execute(sql_q5_course)"
   ]
  },
  {
   "cell_type": "code",
   "execution_count": null,
   "id": "adcf0887",
   "metadata": {},
   "outputs": [],
   "source": [
    "conn.rollback()"
   ]
  },
  {
   "cell_type": "code",
   "execution_count": null,
   "id": "92a68360",
   "metadata": {},
   "outputs": [],
   "source": [
    "conn.commit()"
   ]
  },
  {
   "cell_type": "markdown",
   "id": "355a1c86",
   "metadata": {},
   "source": [
    "# 6. Delete one of the existing professors in the teacher table andchange the instructor of his/her classes in the course table to the newly hired professor"
   ]
  },
  {
   "cell_type": "code",
   "execution_count": 54,
   "id": "72411cdd",
   "metadata": {},
   "outputs": [],
   "source": [
    "sql_q6 = \"\"\"\n",
    "        update gp23.course\n",
    "        set p_email = '{}'\n",
    "        where p_email ='{}'\n",
    "        \"\"\".format('newprofs@jmu.edu','weiwei@jmu.edu')"
   ]
  },
  {
   "cell_type": "code",
   "execution_count": 55,
   "id": "a1043bfc",
   "metadata": {},
   "outputs": [],
   "source": [
    "cur.execute(sql_q6)"
   ]
  },
  {
   "cell_type": "code",
   "execution_count": 56,
   "id": "3eefc545",
   "metadata": {},
   "outputs": [],
   "source": [
    "conn.commit()"
   ]
  },
  {
   "cell_type": "code",
   "execution_count": 57,
   "id": "d17bf7f5",
   "metadata": {},
   "outputs": [
    {
     "data": {
      "text/html": [
       "<div>\n",
       "<style scoped>\n",
       "    .dataframe tbody tr th:only-of-type {\n",
       "        vertical-align: middle;\n",
       "    }\n",
       "\n",
       "    .dataframe tbody tr th {\n",
       "        vertical-align: top;\n",
       "    }\n",
       "\n",
       "    .dataframe thead th {\n",
       "        text-align: right;\n",
       "    }\n",
       "</style>\n",
       "<table border=\"1\" class=\"dataframe\">\n",
       "  <thead>\n",
       "    <tr style=\"text-align: right;\">\n",
       "      <th></th>\n",
       "      <th>num_course</th>\n",
       "      <th>c_name</th>\n",
       "      <th>r_num</th>\n",
       "      <th>p_email</th>\n",
       "    </tr>\n",
       "  </thead>\n",
       "  <tbody>\n",
       "    <tr>\n",
       "      <th>0</th>\n",
       "      <td>IA365</td>\n",
       "      <td>Technology</td>\n",
       "      <td>ISAT200</td>\n",
       "      <td>mooremoore@jmu.edu</td>\n",
       "    </tr>\n",
       "    <tr>\n",
       "      <th>1</th>\n",
       "      <td>PHIL150</td>\n",
       "      <td>Ethics</td>\n",
       "      <td>Miller101\\n</td>\n",
       "      <td>waltonwalton@jmu.edu</td>\n",
       "    </tr>\n",
       "    <tr>\n",
       "      <th>2</th>\n",
       "      <td>IA200</td>\n",
       "      <td>Writing2</td>\n",
       "      <td>Online</td>\n",
       "      <td>newprof@jmu.edu</td>\n",
       "    </tr>\n",
       "    <tr>\n",
       "      <th>3</th>\n",
       "      <td>IA300</td>\n",
       "      <td>Writing</td>\n",
       "      <td>ISAT300</td>\n",
       "      <td>newp@jmu.edu</td>\n",
       "    </tr>\n",
       "    <tr>\n",
       "      <th>4</th>\n",
       "      <td>ia_new</td>\n",
       "      <td>new_c_name</td>\n",
       "      <td>online</td>\n",
       "      <td>newprofs@jmu.edu</td>\n",
       "    </tr>\n",
       "    <tr>\n",
       "      <th>5</th>\n",
       "      <td>IA340</td>\n",
       "      <td>Data Mining</td>\n",
       "      <td>Online</td>\n",
       "      <td>newprofs@jmu.edu</td>\n",
       "    </tr>\n",
       "  </tbody>\n",
       "</table>\n",
       "</div>"
      ],
      "text/plain": [
       "  num_course        c_name        r_num               p_email\n",
       "0      IA365   Technology       ISAT200    mooremoore@jmu.edu\n",
       "1    PHIL150        Ethics  Miller101\\n  waltonwalton@jmu.edu\n",
       "2      IA200      Writing2       Online       newprof@jmu.edu\n",
       "3     IA300        Writing      ISAT300          newp@jmu.edu\n",
       "4     ia_new    new_c_name       online      newprofs@jmu.edu\n",
       "5      IA340  Data Mining       Online       newprofs@jmu.edu"
      ]
     },
     "execution_count": 57,
     "metadata": {},
     "output_type": "execute_result"
    }
   ],
   "source": [
    "df = pandas.read_sql_query('select * from gp23.course',conn)\n",
    "df[:]"
   ]
  },
  {
   "cell_type": "markdown",
   "id": "bba64e18",
   "metadata": {},
   "source": [
    "## delete professor"
   ]
  },
  {
   "cell_type": "code",
   "execution_count": 58,
   "id": "2ea94840",
   "metadata": {},
   "outputs": [],
   "source": [
    "q6_delete_professor_sql = \"\"\"\n",
    "    delete from gp23.professor\n",
    "    where p_email = '{}'\n",
    "\"\"\".format('weiwei@jmu.edu')"
   ]
  },
  {
   "cell_type": "code",
   "execution_count": 59,
   "id": "09e6d0d5",
   "metadata": {},
   "outputs": [],
   "source": [
    "cur.execute(q6_delete_professor_sql)"
   ]
  },
  {
   "cell_type": "code",
   "execution_count": null,
   "id": "b45b3b34",
   "metadata": {},
   "outputs": [],
   "source": []
  },
  {
   "cell_type": "code",
   "execution_count": 60,
   "id": "02ffd8c2",
   "metadata": {},
   "outputs": [],
   "source": [
    "conn.commit()"
   ]
  },
  {
   "cell_type": "code",
   "execution_count": 62,
   "id": "f7d85bac",
   "metadata": {},
   "outputs": [
    {
     "data": {
      "text/html": [
       "<div>\n",
       "<style scoped>\n",
       "    .dataframe tbody tr th:only-of-type {\n",
       "        vertical-align: middle;\n",
       "    }\n",
       "\n",
       "    .dataframe tbody tr th {\n",
       "        vertical-align: top;\n",
       "    }\n",
       "\n",
       "    .dataframe thead th {\n",
       "        text-align: right;\n",
       "    }\n",
       "</style>\n",
       "<table border=\"1\" class=\"dataframe\">\n",
       "  <thead>\n",
       "    <tr style=\"text-align: right;\">\n",
       "      <th></th>\n",
       "      <th>p_email</th>\n",
       "      <th>p_name</th>\n",
       "      <th>office</th>\n",
       "    </tr>\n",
       "  </thead>\n",
       "  <tbody>\n",
       "    <tr>\n",
       "      <th>0</th>\n",
       "      <td>mooremoore@jmu.edu</td>\n",
       "      <td>Kathleen Moore</td>\n",
       "      <td>ISAT 102</td>\n",
       "    </tr>\n",
       "    <tr>\n",
       "      <th>1</th>\n",
       "      <td>waltonwalton@jmu.edu</td>\n",
       "      <td>Timothy Walton</td>\n",
       "      <td>ISAT 100</td>\n",
       "    </tr>\n",
       "    <tr>\n",
       "      <th>2</th>\n",
       "      <td>newprof@jmu.edu</td>\n",
       "      <td>p1</td>\n",
       "      <td>Online</td>\n",
       "    </tr>\n",
       "    <tr>\n",
       "      <th>3</th>\n",
       "      <td>newp@jmu.edu</td>\n",
       "      <td>new_p</td>\n",
       "      <td>new office</td>\n",
       "    </tr>\n",
       "    <tr>\n",
       "      <th>4</th>\n",
       "      <td>newprofs@jmu.edu</td>\n",
       "      <td>newprofs</td>\n",
       "      <td>newoffice</td>\n",
       "    </tr>\n",
       "  </tbody>\n",
       "</table>\n",
       "</div>"
      ],
      "text/plain": [
       "                p_email          p_name      office\n",
       "0    mooremoore@jmu.edu  Kathleen Moore    ISAT 102\n",
       "1  waltonwalton@jmu.edu  Timothy Walton    ISAT 100\n",
       "2       newprof@jmu.edu              p1      Online\n",
       "3          newp@jmu.edu           new_p  new office\n",
       "4      newprofs@jmu.edu        newprofs   newoffice"
      ]
     },
     "execution_count": 62,
     "metadata": {},
     "output_type": "execute_result"
    }
   ],
   "source": [
    "df=pandas.read_sql_query('select * from gp23.professor',conn)\n",
    "df[:]"
   ]
  },
  {
   "cell_type": "code",
   "execution_count": 63,
   "id": "35aff940",
   "metadata": {},
   "outputs": [],
   "source": [
    "cur.close()"
   ]
  },
  {
   "cell_type": "code",
   "execution_count": 64,
   "id": "13ce8b52",
   "metadata": {},
   "outputs": [],
   "source": [
    "conn.close()"
   ]
  },
  {
   "cell_type": "code",
   "execution_count": null,
   "id": "ca485f3a",
   "metadata": {},
   "outputs": [],
   "source": []
  }
 ],
 "metadata": {
  "kernelspec": {
   "display_name": "conda_python3",
   "language": "python",
   "name": "conda_python3"
  },
  "language_info": {
   "codemirror_mode": {
    "name": "ipython",
    "version": 3
   },
   "file_extension": ".py",
   "mimetype": "text/x-python",
   "name": "python",
   "nbconvert_exporter": "python",
   "pygments_lexer": "ipython3",
   "version": "3.6.13"
  }
 },
 "nbformat": 4,
 "nbformat_minor": 5
}
