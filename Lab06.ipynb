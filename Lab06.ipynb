{
 "cells": [
  {
   "cell_type": "markdown",
   "id": "a47cffd7",
   "metadata": {},
   "source": [
    "# Import Library "
   ]
  },
  {
   "cell_type": "code",
   "execution_count": null,
   "id": "c090d21d",
   "metadata": {},
   "outputs": [],
   "source": [
    "import pandas\n",
    "import configparser\n",
    "import psycopg2"
   ]
  },
  {
   "cell_type": "code",
   "execution_count": null,
   "id": "4a9b946b",
   "metadata": {},
   "outputs": [],
   "source": [
    "config = configparser.ConfigParser()\n",
    "config.read('config.ini')\n",
    "\n",
    "host = config['myaws']['host']\n",
    "db = config['myaws']['db']\n",
    "user = config['myaws']['user']\n",
    "pwd = config['myaws']['pwd']"
   ]
  },
  {
   "cell_type": "code",
   "execution_count": null,
   "id": "9625be94",
   "metadata": {},
   "outputs": [],
   "source": [
    "conn = psycopg2.connect(host = host,\n",
    "                       user = user,\n",
    "                        password = pwd,\n",
    "                        dbname = db\n",
    "                       )\n",
    "cur = conn.cursor()"
   ]
  },
  {
   "cell_type": "markdown",
   "id": "10fbca13",
   "metadata": {},
   "source": [
    "# Create House Table "
   ]
  },
  {
   "cell_type": "code",
   "execution_count": null,
   "id": "6b698e37",
   "metadata": {},
   "outputs": [],
   "source": [
    "table_sql = \"\"\"\n",
    "            CREATE TABLE IF NOT EXISTS gp23.house\n",
    "            (\n",
    "\n",
    "                price integer,\n",
    "                bed integer,\n",
    "                bath integer,\n",
    "                area integer,\n",
    "                address VARCHAR(200),\n",
    "                PRIMARY KEY(address)\n",
    "            );\n",
    "\n",
    "            \"\"\""
   ]
  },
  {
   "cell_type": "code",
   "execution_count": null,
   "id": "9d43c057",
   "metadata": {},
   "outputs": [],
   "source": [
    "conn.rollback()\n"
   ]
  },
  {
   "cell_type": "code",
   "execution_count": null,
   "id": "f7d180c8",
   "metadata": {},
   "outputs": [],
   "source": [
    "\n",
    "cur.execute(table_sql)\n",
    "conn.commit()"
   ]
  },
  {
   "cell_type": "markdown",
   "id": "d6dc009f",
   "metadata": {},
   "source": [
    "# Define the Table "
   ]
  },
  {
   "cell_type": "code",
   "execution_count": null,
   "id": "98cef678",
   "metadata": {},
   "outputs": [],
   "source": [
    "\n",
    "url = 'https://www.trulia.com/VA/Ashburn/20147/'"
   ]
  },
  {
   "cell_type": "code",
   "execution_count": null,
   "id": "f6996e2e",
   "metadata": {},
   "outputs": [],
   "source": [
    "import urllib.request\n",
    "response = urllib.request.urlopen(url)\n",
    "html_data= response.read()\n",
    "print(html_data.decode('utf-8'))"
   ]
  },
  {
   "cell_type": "code",
   "execution_count": null,
   "id": "ddd5a638",
   "metadata": {},
   "outputs": [],
   "source": [
    "\n",
    "from bs4 import BeautifulSoup\n",
    "soup = BeautifulSoup(html_data,'html.parser')\n",
    "print (soup)"
   ]
  },
  {
   "cell_type": "code",
   "execution_count": null,
   "id": "76b060b2",
   "metadata": {},
   "outputs": [],
   "source": [
    "for li_class in soup.find_all('li', class_ = 'Grid__CellBox-sc-144isrp-0 SearchResultsList__WideCell-b7y9ki-2 jiZmPM'):\n",
    "    try:\n",
    "        for price_div in li_class.find_all('div',{'data-testid':'property-price'}):\n",
    "            price =int(price_div.text.replace('$','').replace(\",\",\"\"))\n",
    "        for bed_div in li_class.find_all('div', {'data-testid':'property-beds'}):\n",
    "            bed= int(bed_div.text.replace('bd','').replace(\",\",\"\"))\n",
    "        for bath_div in li_class.find_all('div',{'data-testid':'property-baths'}):\n",
    "            bath =int(bath_div.text.replace('ba','').replace(\",\",\"\"))\n",
    "        for area_div in li_class.find_all('div',{'data-testid':'property-floorSpace'}):\n",
    "            area=int(area_div.text.split('sqft')[0].replace(\",\",\"\"))\n",
    "        for address_div in li_class.find_all('div',{'data-testid':'property-address'}):\n",
    "            address =address_div.text\n",
    "\n",
    "        try:\n",
    "            sql_insert = \"\"\"\n",
    "                        insert into gp23.house(price,bed,bath,area,address)\n",
    "                        values('{}','{}','{}','{}','{}')            \n",
    "                        \"\"\".format(price,bed,bath,area,address)\n",
    "\n",
    "            cur.execute(sql_insert)\n",
    "            conn.commit()\n",
    "        except:\n",
    "            conn.rollback()\n",
    "    except:\n",
    "        pass"
   ]
  },
  {
   "cell_type": "markdown",
   "id": "b7586168",
   "metadata": {},
   "source": [
    "# Query the Table"
   ]
  },
  {
   "cell_type": "code",
   "execution_count": null,
   "id": "f79b61c9",
   "metadata": {},
   "outputs": [],
   "source": [
    "df = pandas.read_sql_query('select * from gp23.house ', conn)\n",
    "df[:]"
   ]
  },
  {
   "cell_type": "markdown",
   "id": "7d132a6f",
   "metadata": {},
   "source": [
    "# Basic Stat"
   ]
  },
  {
   "cell_type": "code",
   "execution_count": null,
   "id": "d0e2db90",
   "metadata": {},
   "outputs": [],
   "source": [
    "df.describe()"
   ]
  },
  {
   "cell_type": "markdown",
   "id": "6f5104f1",
   "metadata": {},
   "source": [
    "# Price Distribution "
   ]
  },
  {
   "cell_type": "code",
   "execution_count": null,
   "id": "7dceac22",
   "metadata": {},
   "outputs": [],
   "source": [
    "df['price'].hist()"
   ]
  },
  {
   "cell_type": "markdown",
   "id": "fe060437",
   "metadata": {},
   "source": [
    "# Bed vs Bath "
   ]
  },
  {
   "cell_type": "code",
   "execution_count": null,
   "id": "fd15a92e",
   "metadata": {},
   "outputs": [],
   "source": [
    "df.plot.scatter(x='bed',y='bath')"
   ]
  },
  {
   "cell_type": "code",
   "execution_count": null,
   "id": "911dd0cd",
   "metadata": {},
   "outputs": [],
   "source": []
  }
 ],
 "metadata": {
  "kernelspec": {
   "display_name": "conda_python3",
   "language": "python",
   "name": "conda_python3"
  },
  "language_info": {
   "codemirror_mode": {
    "name": "ipython",
    "version": 3
   },
   "file_extension": ".py",
   "mimetype": "text/x-python",
   "name": "python",
   "nbconvert_exporter": "python",
   "pygments_lexer": "ipython3",
   "version": "3.6.13"
  }
 },
 "nbformat": 4,
 "nbformat_minor": 5
}
